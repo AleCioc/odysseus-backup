{
 "cells": [
  {
   "cell_type": "code",
   "execution_count": 1,
   "id": "ad58fedb",
   "metadata": {},
   "outputs": [],
   "source": [
    "import matplotlib.pyplot as plt\n",
    "import requests\n",
    "import geopandas as gpd\n",
    "import pandas as pd\n",
    "from skmob.tessellation import tilers\n",
    "import shapely\n"
   ]
  },
  {
   "cell_type": "code",
   "execution_count": 3,
   "id": "74d8a7b7",
   "metadata": {},
   "outputs": [
    {
     "data": {
      "text/plain": [
       "{'Amsterdam': {'big_data_db': {'2017': [4, 5, 6]}},\n",
       " 'Milano': {'big_data_db': {'2018': [1]}},\n",
       " 'Torino': {'big_data_db': {'2017': [1, 2, 4, 5, 6, 7, 8, 9, 10, 11, 12],\n",
       "   '2018': [1]}}}"
      ]
     },
     "execution_count": 3,
     "metadata": {},
     "output_type": "execute_result"
    }
   ],
   "source": [
    "r = requests.get('http://127.0.0.1:5000/api_cdm/available-data-on-db')\n",
    "available_data_json = r.json()\n",
    "available_data_json"
   ]
  },
  {
   "cell_type": "code",
   "execution_count": 4,
   "id": "3871a367",
   "metadata": {},
   "outputs": [
    {
     "data": {
      "text/plain": [
       "['Amsterdam', 'Milano', 'Torino']"
      ]
     },
     "execution_count": 4,
     "metadata": {},
     "output_type": "execute_result"
    }
   ],
   "source": [
    "available_city = list(available_data_json.keys())\n",
    "available_city"
   ]
  },
  {
   "cell_type": "code",
   "execution_count": 8,
   "id": "5503ea4f",
   "metadata": {},
   "outputs": [
    {
     "data": {
      "text/plain": [
       "['big_data_db']"
      ]
     },
     "execution_count": 8,
     "metadata": {},
     "output_type": "execute_result"
    }
   ],
   "source": [
    "chosen = available_city[2]\n",
    "available_dbs = list(available_data_json[chosen].keys())\n",
    "available_dbs"
   ]
  },
  {
   "cell_type": "code",
   "execution_count": 9,
   "id": "9a9b0da3",
   "metadata": {},
   "outputs": [
    {
     "data": {
      "text/plain": [
       "['2017', '2018']"
      ]
     },
     "execution_count": 9,
     "metadata": {},
     "output_type": "execute_result"
    }
   ],
   "source": [
    "chosen_db = available_dbs[0]\n",
    "available_years = list(available_data_json[chosen][chosen_db].keys())\n",
    "available_years"
   ]
  },
  {
   "cell_type": "code",
   "execution_count": 10,
   "id": "64192498",
   "metadata": {},
   "outputs": [
    {
     "data": {
      "text/plain": [
       "[1, 2, 4, 5, 6, 7, 8, 9, 10, 11, 12]"
      ]
     },
     "execution_count": 10,
     "metadata": {},
     "output_type": "execute_result"
    }
   ],
   "source": [
    "chosen_year = available_years[0]\n",
    "\n",
    "available_data_json[chosen][chosen_db][chosen_year]"
   ]
  },
  {
   "cell_type": "code",
   "execution_count": 128,
   "id": "7354cf93",
   "metadata": {},
   "outputs": [],
   "source": [
    "def get_amenities(isocode_country=\"IT\", city=\"Roma\", amenity_type=\"fast_food\"):\n",
    "    overpass_url = \"http://overpass-api.de/api/interpreter\"\n",
    "    api = overpy.Overpass()\n",
    "    \n",
    "    overpass_query = '''\n",
    "[out:json];\n",
    "area[\"name\"=\"'''+city+'''\"];\n",
    "(\n",
    "  node[\"amenity\"=\"'''+amenity_type+'''\"](area);\n",
    ");\n",
    "out center;\n",
    "    '''\n",
    "\n",
    "    response = requests.get(overpass_url, params={'data': overpass_query})\n",
    "    data = response.json()\n",
    "    records_list = list()\n",
    "    print(data)\n",
    "    for node in data[\"elements\"]:\n",
    "        record = dict()\n",
    "        if \"capacity\" in node[\"tags\"]:\n",
    "            record[\"capacity\"] = node[\"tags\"][\"capacity\"]\n",
    "        if \"operator\" in node[\"tags\"]:\n",
    "            record[\"operator\"] = node[\"tags\"][\"operator\"]\n",
    "        record[\"id\"] = node[\"id\"]\n",
    "        record[\"latitude\"] = node[\"lat\"]\n",
    "        record[\"longitude\"] = node[\"lon\"]\n",
    "        record[\"geometry\"] = shapely.geometry.Point(record[\"longitude\"], record[\"latitude\"])\n",
    "        records_list.append(record)\n",
    "    return gpd.GeoDataFrame(records_list)"
   ]
  },
  {
   "cell_type": "code",
   "execution_count": 129,
   "id": "b323317d",
   "metadata": {},
   "outputs": [
    {
     "name": "stdout",
     "output_type": "stream",
     "text": [
      "{'version': 0.6, 'generator': 'Overpass API 0.7.56.9 76e5016d', 'osm3s': {'timestamp_osm_base': '2021-07-05T14:45:58Z', 'timestamp_areas_base': '2021-07-05T11:35:58Z', 'copyright': 'The data included in this document is from www.openstreetmap.org. The data is made available under ODbL.'}, 'elements': [{'type': 'node', 'id': 544516332, 'lat': 45.0739597, 'lon': 7.6840641, 'tags': {'amenity': 'charging_station', 'capacity': '2', 'disused:amenity': 'car_sharing', 'operator': 'Evway', 'website': 'https://evway.net/'}}, {'type': 'node', 'id': 3906163545, 'lat': 45.0762419, 'lon': 7.6716763, 'tags': {'amenity': 'charging_station', 'capacity': '2', 'disused:amenity': 'car_sharing', 'operator': 'Evway', 'website': 'https://evway.net/'}}, {'type': 'node', 'id': 3906238205, 'lat': 45.0638431, 'lon': 7.6761515, 'tags': {'amenity': 'charging_station', 'capacity': '2', 'disused:amenity': 'car_sharing', 'operator': 'Evway', 'socket:type2': '2', 'socket:type2:output': '22kW', 'website': 'https://evway.net/'}}, {'type': 'node', 'id': 3906239156, 'lat': 45.0683594, 'lon': 7.6762525, 'tags': {'amenity': 'charging_station', 'capacity': '2', 'disused:amenity': 'car_sharing', 'operator': 'Evway', 'website': 'https://evway.net/'}}, {'type': 'node', 'id': 3906262432, 'lat': 45.0650768, 'lon': 7.6935374, 'tags': {'amenity': 'charging_station', 'capacity': '2', 'disused:amenity': 'car_sharing', 'operator': 'Evway', 'website': 'https://evway.net/'}}, {'type': 'node', 'id': 4583295059, 'lat': 45.0187672, 'lon': 7.6483631, 'tags': {'addr:city': 'Torino', 'addr:postcode': '10135', 'addr:street': 'Via Italo Pizzi', 'amenity': 'charging_station', 'capacity': '5', 'operator': 'Bluetorino', 'website': 'https://www.bluetorino.eu/'}}, {'type': 'node', 'id': 4671233528, 'lat': 45.0720716, 'lon': 7.66497, 'tags': {'amenity': 'charging_station'}}, {'type': 'node', 'id': 4691906381, 'lat': 45.0468929, 'lon': 7.6626022, 'tags': {'amenity': 'charging_station', 'operator': 'BlueTorino'}}, {'type': 'node', 'id': 4691906382, 'lat': 45.0489298, 'lon': 7.6561472, 'tags': {'amenity': 'charging_station', 'operator': 'BlueTorino'}}, {'type': 'node', 'id': 4691906384, 'lat': 45.0474513, 'lon': 7.6470614, 'tags': {'amenity': 'charging_station', 'operator': 'BlueTorino'}}, {'type': 'node', 'id': 4691906385, 'lat': 45.0509597, 'lon': 7.6226465, 'tags': {'amenity': 'charging_station', 'capacity': '5', 'operator': 'BlueTorino'}}, {'type': 'node', 'id': 5255643474, 'lat': 45.0700267, 'lon': 7.6866531, 'tags': {'amenity': 'charging_station', 'capacity': '2', 'operator': 'Evway', 'website': 'https://evway.net/'}}, {'type': 'node', 'id': 5545493679, 'lat': 45.0708356, 'lon': 7.6657614, 'tags': {'amenity': 'charging_station', 'capacity': '2', 'operator': 'Evway', 'website': 'https://evway.net/'}}, {'type': 'node', 'id': 5545493680, 'lat': 45.0665629, 'lon': 7.681345, 'tags': {'amenity': 'charging_station', 'capacity': '2', 'operator': 'Evway', 'website': 'https://evway.net/'}}, {'type': 'node', 'id': 5545537379, 'lat': 45.0737839, 'lon': 7.6757969, 'tags': {'amenity': 'charging_station', 'capacity': '2', 'operator': 'Evway', 'website': 'https://evway.net/'}}, {'type': 'node', 'id': 5545629913, 'lat': 45.053075, 'lon': 7.6694843, 'tags': {'amenity': 'charging_station', 'capacity': '2', 'operator': 'Evway', 'socket:type2': '2', 'website': 'https://evway.net/'}}, {'type': 'node', 'id': 5698680374, 'lat': 45.0742132, 'lon': 7.724057, 'tags': {'amenity': 'charging_station', 'capacity': '1', 'car': 'yes', 'fee': 'yes', 'operator': 'BlueTorino', 'power': '7 kW', 'socket:type2': '1', 'website': 'https://www.bluetorino.eu/#turin'}}, {'type': 'node', 'id': 5787665000, 'lat': 45.0527892, 'lon': 7.6493465, 'tags': {'amenity': 'charging_station', 'level': '-1', 'operator': 'PAM', 'socket:type2': '4'}}, {'type': 'node', 'id': 5787669623, 'lat': 45.0653192, 'lon': 7.3932626, 'tags': {'amenity': 'charging_station', 'operator': 'Duferco Energia', 'socket:type2:output': '22kW'}}, {'type': 'node', 'id': 6074518783, 'lat': 44.8658413, 'lon': 7.2692224, 'tags': {'amenity': 'charging_station', 'name': 'Ricarica E-Bike', 'operator': 'eviso', 'voltage': '4 x 220V + 1 USB'}}, {'type': 'node', 'id': 6133074685, 'lat': 45.0927476, 'lon': 7.7007653, 'tags': {'addr:street': 'Via Cherubini', 'amenity': 'charging_station', 'capacity': '3', 'fee': 'yes', 'name': 'BlueTorino Via Cherubini', 'operator': 'BlueTorino', 'payment:cards': 'yes', 'phone': '+39 011 57 90 030', 'website': 'https://www.bluetorino.eu/'}}, {'type': 'node', 'id': 6312308807, 'lat': 45.2719631, 'lon': 7.4811183, 'tags': {'amenity': 'charging_station', 'brand': 'Enel X', 'brand:wikidata': 'Q5376815', 'brand:wikipedia': 'en:Enel X', 'name': 'Enel X', 'opening_hours': '24/7', 'operator': 'enel x', 'operator:wikidata': 'Q5376815', 'operator:wikipedia': 'en:Enel X', 'socket:type2': '2'}}, {'type': 'node', 'id': 6547741735, 'lat': 44.9733201, 'lon': 7.7301547, 'tags': {'amenity': 'charging_station', 'brand': 'Tesla Inc.', 'brand:wikidata': 'Q17089620', 'brand:wikipedia': 'en:Tesla Supercharger', 'capacity': '8', 'name': 'Tesla Supercharger', 'operator': 'Tesla'}}, {'type': 'node', 'id': 6561044219, 'lat': 45.2644314, 'lon': 7.4712417, 'tags': {'amenity': 'charging_station', 'brand': 'Enel X', 'brand:wikidata': 'Q5376815', 'brand:wikipedia': 'en:Enel X', 'fee': 'yes', 'name': 'Enel X', 'note:it': 'Non ancora attivata', 'opening_hours': '24/7', 'operator': 'enel X', 'operator:wikidata': 'Q5376815', 'operator:wikipedia': 'en:Enel X', 'socket:type2': '2'}}, {'type': 'node', 'id': 6568150678, 'lat': 44.9786002, 'lon': 7.7350324, 'tags': {'amenity': 'charging_station', 'brand': 'Enel', 'brand:wikidata': 'Q651222', 'brand:wikipedia': 'en:Enel', 'name': 'Enel', 'operator': 'Enel X'}}, {'type': 'node', 'id': 6568150679, 'lat': 44.9786114, 'lon': 7.7349616, 'tags': {'amenity': 'charging_station', 'brand': 'Enel', 'brand:wikidata': 'Q651222', 'brand:wikipedia': 'en:Enel', 'name': 'Enel', 'operator': 'Enel X'}}, {'type': 'node', 'id': 6616184589, 'lat': 45.2187424, 'lon': 7.1899249, 'tags': {'amenity': 'charging_station', 'amperage': '64', 'brand': 'Enel X', 'brand:wikidata': 'Q5376815', 'brand:wikipedia': 'en:Enel X', 'capacity': '2', 'motorcar': 'yes', 'name': 'Enel X', 'opening_hours': '24/7', 'operator': 'enel x', 'operator:wikidata': 'Q5376815', 'operator:wikipedia': 'en:Enel X', 'ref': '19XP22T3KK4AD00431', 'socket:type2': '2', 'voltage': '230'}}, {'type': 'node', 'id': 6616224344, 'lat': 45.3701923, 'lon': 7.2770996, 'tags': {'amenity': 'charging_station', 'brand': 'Enel X', 'brand:wikidata': 'Q5376815', 'brand:wikipedia': 'en:Enel X', 'name': 'Enel X', 'operator': 'enel x', 'operator:wikidata': 'Q5376815', 'operator:wikipedia': 'en:Enel X'}}, {'type': 'node', 'id': 6644689241, 'lat': 45.2328037, 'lon': 7.2215911, 'tags': {'amenity': 'charging_station', 'brand': 'Enel X', 'brand:wikidata': 'Q5376815', 'brand:wikipedia': 'en:Enel X', 'capacity': '2', 'fee': 'yes', 'motorcar': 'yes', 'name': 'Enel X', 'opening_hours': '24/7', 'operator': 'enel x', 'operator:wikidata': 'Q5376815', 'operator:wikipedia': 'en:Enel X', 'socket:type2': '2', 'voltage': '400'}}, {'type': 'node', 'id': 6646156918, 'lat': 45.2286875, 'lon': 7.2952667, 'tags': {'amenity': 'charging_station', 'amperage': '64', 'brand': 'Enel X', 'brand:wikidata': 'Q5376815', 'brand:wikipedia': 'en:Enel X', 'capacity': '2', 'motorcar': 'yes', 'name': 'Enel X', 'opening_hours': '24/7', 'operator': 'enel x', 'operator:wikidata': 'Q5376815', 'operator:wikipedia': 'en:Enel X', 'ref': '19P22T3KK4AD00371', 'socket:type2': '2', 'voltage': '400'}}, {'type': 'node', 'id': 6664997913, 'lat': 44.9807946, 'lon': 7.7362455, 'tags': {'access': 'yes', 'amenity': 'charging_station', 'brand': 'Enel', 'brand:wikidata': 'Q651222', 'brand:wikipedia': 'en:Enel', 'capacity': '2', 'name': 'Enel', 'operator': 'Enel X'}}, {'type': 'node', 'id': 6673520850, 'lat': 45.1778307, 'lon': 7.382954, 'tags': {'amenity': 'charging_station', 'amperage': '64', 'authentication:app': 'yes', 'authentication:membership_card': 'yes', 'brand': 'Enel X', 'brand:wikidata': 'Q5376815', 'brand:wikipedia': 'en:Enel X', 'capacity': '2', 'fee': 'yes', 'motorcar': 'yes', 'name': 'Enel X', 'opening_hours': '24/7', 'operator': 'enel x', 'operator:wikidata': 'Q5376815', 'operator:wikipedia': 'en:Enel X', 'ref': '19XP22T3KK4AD00205', 'socket:type2': '2', 'voltage': '400'}}, {'type': 'node', 'id': 6777574899, 'lat': 45.2719823, 'lon': 7.4810605, 'tags': {'amenity': 'charging_station', 'brand': 'Enel X', 'brand:wikidata': 'Q5376815', 'brand:wikipedia': 'en:Enel X', 'name': 'Enel X', 'opening_hours': '24/7', 'operator': 'enel x', 'operator:wikidata': 'Q5376815', 'operator:wikipedia': 'en:Enel X', 'socket:type2': '2'}}, {'type': 'node', 'id': 6903575523, 'lat': 45.238651, 'lon': 7.3730594, 'tags': {'amenity': 'charging_station', 'brand': 'Enel X', 'brand:wikidata': 'Q5376815', 'brand:wikipedia': 'en:Enel X', 'capacity': '2', 'fee': 'yes', 'name': 'Enel X', 'opening_hours': '24/7', 'operator': 'Enel X', 'operator:wikidata': 'Q5376815', 'operator:wikipedia': 'en:Enel X', 'ref': 'OCPI-130-ENX_00002883', 'socket:type2': '2'}}, {'type': 'node', 'id': 6992727081, 'lat': 44.8214657, 'lon': 7.3021085, 'tags': {'amenity': 'charging_station', 'authentication:app': 'yes', 'authentication:membership_card': 'yes', 'capacity': '2', 'car': 'yes', 'fee': 'yes', 'opening_hours': '24/7', 'operator': 'Enel X', 'socket:type2': '1', 'socket:type3': '1', 'website': 'https://www.enelx.com/it/it'}}, {'type': 'node', 'id': 7037921047, 'lat': 45.1819992, 'lon': 7.7171016, 'tags': {'amenity': 'charging_station', 'amperage': '64', 'authentication:membership_card': 'yes', 'brand': 'Enel X', 'brand:wikidata': 'Q5376815', 'brand:wikipedia': 'en:Enel X', 'capacity': '2', 'fee': 'yes', 'motorcar': 'no', 'name': 'Enel X', 'opening_hours': '24/7', 'operator': 'Enel X', 'operator:wikidata': 'Q5376815', 'operator:wikipedia': 'en:Enel X', 'socket:chademo': '1', 'socket:chademo:output': '50', 'socket:type2': '1', 'socket:type2:output': '50', 'socket:type2_combo': '1'}}, {'type': 'node', 'id': 7037921048, 'lat': 45.1820504, 'lon': 7.7171587, 'tags': {'amenity': 'charging_station', 'amperage': '32', 'authentication:membership_card': 'yes', 'brand': 'Enel X', 'brand:wikidata': 'Q5376815', 'brand:wikipedia': 'en:Enel X', 'capacity': '2', 'fee': 'yes', 'motorcar': 'no', 'name': 'Enel X', 'opening_hours': '24/7', 'operator': 'Enel X', 'operator:wikidata': 'Q5376815', 'operator:wikipedia': 'en:Enel X', 'socket:type2': '2', 'socket:type2:output': '43', 'voltage': '400'}}, {'type': 'node', 'id': 7037921049, 'lat': 45.1820813, 'lon': 7.7171984, 'tags': {'amenity': 'charging_station', 'amperage': '32', 'authentication:membership_card': 'yes', 'brand': 'Enel X', 'brand:wikidata': 'Q5376815', 'brand:wikipedia': 'en:Enel X', 'capacity': '2', 'fee': 'yes', 'motorcar': 'no', 'name': 'Enel X', 'opening_hours': '24/7', 'operator': 'Enel X', 'operator:wikidata': 'Q5376815', 'operator:wikipedia': 'en:Enel X', 'socket:type2': '2', 'socket:type2:output': '20', 'voltage': '400'}}, {'type': 'node', 'id': 7235680225, 'lat': 44.8474519, 'lon': 7.7323157, 'tags': {'amenity': 'charging_station', 'capacity': '2', 'motorcar': 'yes', 'opening_hours': '24/7', 'operator': 'Enel X', 'socket:chademo': '1', 'socket:type2': '1'}}, {'type': 'node', 'id': 7412495896, 'lat': 45.0135627, 'lon': 7.6255209, 'tags': {'access': 'customers', 'amenity': 'charging_station', 'operator': 'BlueTorino'}}, {'type': 'node', 'id': 7412497420, 'lat': 45.0653874, 'lon': 7.648087, 'tags': {'access': 'customers', 'amenity': 'charging_station', 'capacity': '5', 'operator': 'BlueTorino'}}, {'type': 'node', 'id': 7417156389, 'lat': 45.0195336, 'lon': 7.659951, 'tags': {'access': 'yes', 'amenity': 'charging_station', 'operator': 'Enel X', 'socket:type2': '1', 'socket:type2:output': '22kW'}}, {'type': 'node', 'id': 7686769170, 'lat': 45.1346973, 'lon': 7.044139, 'tags': {'amenity': 'charging_station', 'brand': 'Enel', 'brand:wikidata': 'Q651222', 'brand:wikipedia': 'en:Enel', 'capacity': '2', 'charging_station:output': '44 kW', 'fee': 'yes', 'name': 'Enel'}}, {'type': 'node', 'id': 7787992006, 'lat': 45.0866862, 'lon': 7.6708899, 'tags': {'amenity': 'charging_station'}}, {'type': 'node', 'id': 7944759282, 'lat': 45.0784543, 'lon': 7.6988918, 'tags': {'amenity': 'charging_station', 'name': 'Becharge', 'website': 'www.bec.energy'}}, {'type': 'node', 'id': 7963459468, 'lat': 44.9708196, 'lon': 7.778687, 'tags': {'amenity': 'charging_station', 'capacity': '2', 'operator': 'Enel'}}, {'type': 'node', 'id': 8043760226, 'lat': 45.1740125, 'lon': 7.6503606, 'tags': {'amenity': 'charging_station'}}, {'type': 'node', 'id': 8243495235, 'lat': 45.0825263, 'lon': 7.3337452, 'tags': {'amenity': 'charging_station'}}, {'type': 'node', 'id': 8247303425, 'lat': 45.0204178, 'lon': 7.6146422, 'tags': {'access': 'customers', 'amenity': 'charging_station', 'name': 'BlueTorino'}}, {'type': 'node', 'id': 8247305370, 'lat': 45.0191906, 'lon': 7.6339036, 'tags': {'access': 'customers', 'amenity': 'charging_station', 'name': 'BlueTorino'}}, {'type': 'node', 'id': 8247313850, 'lat': 45.0239722, 'lon': 7.6369673, 'tags': {'access': 'customers', 'amenity': 'charging_station', 'name': 'BlueTorino'}}, {'type': 'node', 'id': 8247353801, 'lat': 45.0169864, 'lon': 7.6551944, 'tags': {'amenity': 'charging_station', 'name': 'LeasysGO'}}, {'type': 'node', 'id': 8247393247, 'lat': 45.0233799, 'lon': 7.6472093, 'tags': {'access': 'customers', 'amenity': 'charging_station', 'name': 'BlueTorino'}}, {'type': 'node', 'id': 8247433563, 'lat': 45.0271, 'lon': 7.6404912, 'tags': {'access': 'customers', 'amenity': 'charging_station', 'name': 'BlueTorino'}}, {'type': 'node', 'id': 8273687163, 'lat': 45.0445755, 'lon': 7.6734667, 'tags': {'access': 'yes', 'amenity': 'charging_station', 'capacity': '2'}}, {'type': 'node', 'id': 8294601530, 'lat': 44.9749385, 'lon': 7.7078293, 'tags': {'access': 'yes', 'amenity': 'charging_station', 'brand': 'Enel X', 'capacity': '2', 'fee': 'yes', 'level': '0', 'operator': 'Enel'}}, {'type': 'node', 'id': 8294601531, 'lat': 44.9749385, 'lon': 7.7078819, 'tags': {'access': 'yes', 'amenity': 'charging_station', 'brand': 'Enel X', 'capacity': '2', 'fee': 'yes', 'level': '0', 'operator': 'Enel'}}, {'type': 'node', 'id': 8356724074, 'lat': 45.1019694, 'lon': 7.3636151, 'tags': {'amenity': 'charging_station', 'operator': 'Enel X'}}, {'type': 'node', 'id': 8418867715, 'lat': 45.0453508, 'lon': 7.4697206, 'tags': {'amenity': 'charging_station'}}, {'type': 'node', 'id': 8496473717, 'lat': 45.0493588, 'lon': 7.6811868, 'tags': {'amenity': 'charging_station', 'capacity': '1', 'fee': 'yes'}}, {'type': 'node', 'id': 8496473718, 'lat': 45.0493172, 'lon': 7.6811611, 'tags': {'amenity': 'charging_station', 'capacity': '1', 'fee': 'yes'}}, {'type': 'node', 'id': 8496473719, 'lat': 45.0492751, 'lon': 7.6811332, 'tags': {'amenity': 'charging_station', 'capacity': '1', 'fee': 'yes'}}, {'type': 'node', 'id': 8568057786, 'lat': 45.2389251, 'lon': 7.3763739, 'tags': {'amenity': 'charging_station', 'bicycle': 'yes', 'capacity': '6', 'operator': 'Ebike Valli di Lanzo', 'socket:schuko': '6', 'voltage': '230'}}, {'type': 'node', 'id': 8705241008, 'lat': 45.0983777, 'lon': 7.5805593, 'tags': {'amenity': 'charging_station', 'description': 'stazione ricarica enel x', 'name': 'Enel x', 'website': 'www.eneldrive.it'}}, {'type': 'node', 'id': 8758646211, 'lat': 45.2035886, 'lon': 7.6365609, 'tags': {'amenity': 'charging_station', 'fee': 'yes', 'operator': 'evway', 'socket:chademo:output': '51200', 'socket:type2:output': '22000', 'socket:type2_combo:output': '51200'}}, {'type': 'node', 'id': 8814451507, 'lat': 44.9584856, 'lon': 7.1897015, 'tags': {'amenity': 'charging_station', 'authentication:app': 'yes', 'authentication:membership_card': 'yes', 'capacity': '2', 'car': 'yes', 'fee': 'yes', 'opening_hours': '24/7', 'operator': 'Enel X', 'socket:type2': '2', 'website': 'https://www.enelx.com/it/it'}}, {'type': 'node', 'id': 8814455593, 'lat': 44.8793887, 'lon': 7.3322046, 'tags': {'amenity': 'charging_station', 'capacity': '2', 'operator': 'Enel X', 'socket:type2': '2'}}, {'type': 'node', 'id': 8853071036, 'lat': 45.1755676, 'lon': 7.8378457, 'tags': {'amenity': 'charging_station', 'brand': 'Enel'}}, {'type': 'node', 'id': 8890454983, 'lat': 45.2326155, 'lon': 7.5986861, 'tags': {'amenity': 'charging_station', 'operator': 'Enel', 'socket:chademo:output': '51200', 'socket:type2:output': '22000', 'socket:type2_combo:output': '51200'}}]}\n"
     ]
    },
    {
     "data": {
      "text/html": [
       "<div>\n",
       "<style scoped>\n",
       "    .dataframe tbody tr th:only-of-type {\n",
       "        vertical-align: middle;\n",
       "    }\n",
       "\n",
       "    .dataframe tbody tr th {\n",
       "        vertical-align: top;\n",
       "    }\n",
       "\n",
       "    .dataframe thead th {\n",
       "        text-align: right;\n",
       "    }\n",
       "</style>\n",
       "<table border=\"1\" class=\"dataframe\">\n",
       "  <thead>\n",
       "    <tr style=\"text-align: right;\">\n",
       "      <th></th>\n",
       "      <th>capacity</th>\n",
       "      <th>operator</th>\n",
       "      <th>id</th>\n",
       "      <th>latitude</th>\n",
       "      <th>longitude</th>\n",
       "      <th>geometry</th>\n",
       "    </tr>\n",
       "  </thead>\n",
       "  <tbody>\n",
       "    <tr>\n",
       "      <th>0</th>\n",
       "      <td>2</td>\n",
       "      <td>Evway</td>\n",
       "      <td>544516332</td>\n",
       "      <td>45.073960</td>\n",
       "      <td>7.684064</td>\n",
       "      <td>POINT (7.68406 45.07396)</td>\n",
       "    </tr>\n",
       "    <tr>\n",
       "      <th>1</th>\n",
       "      <td>2</td>\n",
       "      <td>Evway</td>\n",
       "      <td>3906163545</td>\n",
       "      <td>45.076242</td>\n",
       "      <td>7.671676</td>\n",
       "      <td>POINT (7.67168 45.07624)</td>\n",
       "    </tr>\n",
       "    <tr>\n",
       "      <th>2</th>\n",
       "      <td>2</td>\n",
       "      <td>Evway</td>\n",
       "      <td>3906238205</td>\n",
       "      <td>45.063843</td>\n",
       "      <td>7.676151</td>\n",
       "      <td>POINT (7.67615 45.06384)</td>\n",
       "    </tr>\n",
       "    <tr>\n",
       "      <th>3</th>\n",
       "      <td>2</td>\n",
       "      <td>Evway</td>\n",
       "      <td>3906239156</td>\n",
       "      <td>45.068359</td>\n",
       "      <td>7.676253</td>\n",
       "      <td>POINT (7.67625 45.06836)</td>\n",
       "    </tr>\n",
       "    <tr>\n",
       "      <th>4</th>\n",
       "      <td>2</td>\n",
       "      <td>Evway</td>\n",
       "      <td>3906262432</td>\n",
       "      <td>45.065077</td>\n",
       "      <td>7.693537</td>\n",
       "      <td>POINT (7.69354 45.06508)</td>\n",
       "    </tr>\n",
       "    <tr>\n",
       "      <th>...</th>\n",
       "      <td>...</td>\n",
       "      <td>...</td>\n",
       "      <td>...</td>\n",
       "      <td>...</td>\n",
       "      <td>...</td>\n",
       "      <td>...</td>\n",
       "    </tr>\n",
       "    <tr>\n",
       "      <th>64</th>\n",
       "      <td>NaN</td>\n",
       "      <td>evway</td>\n",
       "      <td>8758646211</td>\n",
       "      <td>45.203589</td>\n",
       "      <td>7.636561</td>\n",
       "      <td>POINT (7.63656 45.20359)</td>\n",
       "    </tr>\n",
       "    <tr>\n",
       "      <th>65</th>\n",
       "      <td>2</td>\n",
       "      <td>Enel X</td>\n",
       "      <td>8814451507</td>\n",
       "      <td>44.958486</td>\n",
       "      <td>7.189701</td>\n",
       "      <td>POINT (7.18970 44.95849)</td>\n",
       "    </tr>\n",
       "    <tr>\n",
       "      <th>66</th>\n",
       "      <td>2</td>\n",
       "      <td>Enel X</td>\n",
       "      <td>8814455593</td>\n",
       "      <td>44.879389</td>\n",
       "      <td>7.332205</td>\n",
       "      <td>POINT (7.33220 44.87939)</td>\n",
       "    </tr>\n",
       "    <tr>\n",
       "      <th>67</th>\n",
       "      <td>NaN</td>\n",
       "      <td>NaN</td>\n",
       "      <td>8853071036</td>\n",
       "      <td>45.175568</td>\n",
       "      <td>7.837846</td>\n",
       "      <td>POINT (7.83785 45.17557)</td>\n",
       "    </tr>\n",
       "    <tr>\n",
       "      <th>68</th>\n",
       "      <td>NaN</td>\n",
       "      <td>Enel</td>\n",
       "      <td>8890454983</td>\n",
       "      <td>45.232616</td>\n",
       "      <td>7.598686</td>\n",
       "      <td>POINT (7.59869 45.23262)</td>\n",
       "    </tr>\n",
       "  </tbody>\n",
       "</table>\n",
       "<p>69 rows × 6 columns</p>\n",
       "</div>"
      ],
      "text/plain": [
       "   capacity operator          id   latitude  longitude  \\\n",
       "0         2    Evway   544516332  45.073960   7.684064   \n",
       "1         2    Evway  3906163545  45.076242   7.671676   \n",
       "2         2    Evway  3906238205  45.063843   7.676151   \n",
       "3         2    Evway  3906239156  45.068359   7.676253   \n",
       "4         2    Evway  3906262432  45.065077   7.693537   \n",
       "..      ...      ...         ...        ...        ...   \n",
       "64      NaN    evway  8758646211  45.203589   7.636561   \n",
       "65        2   Enel X  8814451507  44.958486   7.189701   \n",
       "66        2   Enel X  8814455593  44.879389   7.332205   \n",
       "67      NaN      NaN  8853071036  45.175568   7.837846   \n",
       "68      NaN     Enel  8890454983  45.232616   7.598686   \n",
       "\n",
       "                    geometry  \n",
       "0   POINT (7.68406 45.07396)  \n",
       "1   POINT (7.67168 45.07624)  \n",
       "2   POINT (7.67615 45.06384)  \n",
       "3   POINT (7.67625 45.06836)  \n",
       "4   POINT (7.69354 45.06508)  \n",
       "..                       ...  \n",
       "64  POINT (7.63656 45.20359)  \n",
       "65  POINT (7.18970 44.95849)  \n",
       "66  POINT (7.33220 44.87939)  \n",
       "67  POINT (7.83785 45.17557)  \n",
       "68  POINT (7.59869 45.23262)  \n",
       "\n",
       "[69 rows x 6 columns]"
      ]
     },
     "execution_count": 129,
     "metadata": {},
     "output_type": "execute_result"
    }
   ],
   "source": [
    "am = get_amenities(city='Torino', amenity_type='charging_station').copy()\n",
    "\n",
    "\n",
    "am"
   ]
  },
  {
   "cell_type": "code",
   "execution_count": 146,
   "id": "183dbb6b",
   "metadata": {},
   "outputs": [
    {
     "data": {
      "application/vnd.plotly.v1+json": {
       "config": {
        "plotlyServerURL": "https://plot.ly"
       },
       "data": [
        {
         "customdata": [
          [
           "2"
          ],
          [
           "2"
          ],
          [
           "2"
          ],
          [
           "2"
          ],
          [
           "2"
          ],
          [
           "5"
          ],
          [
           null
          ],
          [
           null
          ],
          [
           null
          ],
          [
           null
          ],
          [
           "5"
          ],
          [
           "2"
          ],
          [
           "2"
          ],
          [
           "2"
          ],
          [
           "2"
          ],
          [
           "2"
          ],
          [
           "1"
          ],
          [
           null
          ],
          [
           null
          ],
          [
           null
          ],
          [
           "3"
          ],
          [
           null
          ],
          [
           "8"
          ],
          [
           null
          ],
          [
           null
          ],
          [
           null
          ],
          [
           "2"
          ],
          [
           null
          ],
          [
           "2"
          ],
          [
           "2"
          ],
          [
           "2"
          ],
          [
           "2"
          ],
          [
           null
          ],
          [
           "2"
          ],
          [
           "2"
          ],
          [
           "2"
          ],
          [
           "2"
          ],
          [
           "2"
          ],
          [
           "2"
          ],
          [
           null
          ],
          [
           "5"
          ],
          [
           null
          ],
          [
           "2"
          ],
          [
           null
          ],
          [
           null
          ],
          [
           "2"
          ],
          [
           null
          ],
          [
           null
          ],
          [
           null
          ],
          [
           null
          ],
          [
           null
          ],
          [
           null
          ],
          [
           null
          ],
          [
           null
          ],
          [
           "2"
          ],
          [
           "2"
          ],
          [
           "2"
          ],
          [
           null
          ],
          [
           null
          ],
          [
           "1"
          ],
          [
           "1"
          ],
          [
           "1"
          ],
          [
           "6"
          ],
          [
           null
          ],
          [
           null
          ],
          [
           "2"
          ],
          [
           "2"
          ],
          [
           null
          ],
          [
           null
          ]
         ],
         "hovertemplate": "<b>%{hovertext}</b><br><br>latitude=%{lat}<br>longitude=%{lon}<br>capacity=%{customdata[0]}<extra></extra>",
         "hovertext": [
          "Evway",
          "Evway",
          "Evway",
          "Evway",
          "Evway",
          "Bluetorino",
          "nan",
          "BlueTorino",
          "BlueTorino",
          "BlueTorino",
          "BlueTorino",
          "Evway",
          "Evway",
          "Evway",
          "Evway",
          "Evway",
          "BlueTorino",
          "PAM",
          "Duferco Energia",
          "eviso",
          "BlueTorino",
          "enel x",
          "Tesla",
          "enel X",
          "Enel X",
          "Enel X",
          "enel x",
          "enel x",
          "enel x",
          "enel x",
          "Enel X",
          "enel x",
          "enel x",
          "Enel X",
          "Enel X",
          "Enel X",
          "Enel X",
          "Enel X",
          "Enel X",
          "BlueTorino",
          "BlueTorino",
          "Enel X",
          "nan",
          "nan",
          "nan",
          "Enel",
          "nan",
          "nan",
          "nan",
          "nan",
          "nan",
          "nan",
          "nan",
          "nan",
          "nan",
          "Enel",
          "Enel",
          "Enel X",
          "nan",
          "nan",
          "nan",
          "nan",
          "Ebike Valli di Lanzo",
          "nan",
          "evway",
          "Enel X",
          "Enel X",
          "nan",
          "Enel"
         ],
         "lat": [
          45.0739597,
          45.0762419,
          45.0638431,
          45.0683594,
          45.0650768,
          45.0187672,
          45.0720716,
          45.0468929,
          45.0489298,
          45.0474513,
          45.0509597,
          45.0700267,
          45.0708356,
          45.0665629,
          45.0737839,
          45.053075,
          45.0742132,
          45.0527892,
          45.0653192,
          44.8658413,
          45.0927476,
          45.2719631,
          44.9733201,
          45.2644314,
          44.9786002,
          44.9786114,
          45.2187424,
          45.3701923,
          45.2328037,
          45.2286875,
          44.9807946,
          45.1778307,
          45.2719823,
          45.238651,
          44.8214657,
          45.1819992,
          45.1820504,
          45.1820813,
          44.8474519,
          45.0135627,
          45.0653874,
          45.0195336,
          45.1346973,
          45.0866862,
          45.0784543,
          44.9708196,
          45.1740125,
          45.0825263,
          45.0204178,
          45.0191906,
          45.0239722,
          45.0169864,
          45.0233799,
          45.0271,
          45.0445755,
          44.9749385,
          44.9749385,
          45.1019694,
          45.0453508,
          45.0493588,
          45.0493172,
          45.0492751,
          45.2389251,
          45.0983777,
          45.2035886,
          44.9584856,
          44.8793887,
          45.1755676,
          45.2326155
         ],
         "legendgroup": "",
         "lon": [
          7.6840641,
          7.6716763,
          7.6761515,
          7.6762525,
          7.6935374,
          7.6483631,
          7.66497,
          7.6626022,
          7.6561472,
          7.6470614,
          7.6226465,
          7.6866531,
          7.6657614,
          7.681345,
          7.6757969,
          7.6694843,
          7.724057,
          7.6493465,
          7.3932626,
          7.2692224,
          7.7007653,
          7.4811183,
          7.7301547,
          7.4712417,
          7.7350324,
          7.7349616,
          7.1899249,
          7.2770996,
          7.2215911,
          7.2952667,
          7.7362455,
          7.382954,
          7.4810605,
          7.3730594,
          7.3021085,
          7.7171016,
          7.7171587,
          7.7171984,
          7.7323157,
          7.6255209,
          7.648087,
          7.659951,
          7.044139,
          7.6708899,
          7.6988918,
          7.778687,
          7.6503606,
          7.3337452,
          7.6146422,
          7.6339036,
          7.6369673,
          7.6551944,
          7.6472093,
          7.6404912,
          7.6734667,
          7.7078293,
          7.7078819,
          7.3636151,
          7.4697206,
          7.6811868,
          7.6811611,
          7.6811332,
          7.3763739,
          7.5805593,
          7.6365609,
          7.1897015,
          7.3322046,
          7.8378457,
          7.5986861
         ],
         "marker": {
          "color": "black"
         },
         "mode": "markers",
         "name": "",
         "showlegend": false,
         "subplot": "mapbox",
         "type": "scattermapbox"
        }
       ],
       "layout": {
        "legend": {
         "tracegroupgap": 0
        },
        "mapbox": {
         "center": {
          "lat": 45.116177,
          "lon": 7.742615
         },
         "domain": {
          "x": [
           0,
           1
          ],
          "y": [
           0,
           1
          ]
         },
         "style": "open-street-map",
         "zoom": 10
        },
        "margin": {
         "b": 0,
         "l": 0,
         "r": 0,
         "t": 0
        },
        "template": {
         "data": {
          "bar": [
           {
            "error_x": {
             "color": "#2a3f5f"
            },
            "error_y": {
             "color": "#2a3f5f"
            },
            "marker": {
             "line": {
              "color": "#E5ECF6",
              "width": 0.5
             },
             "pattern": {
              "fillmode": "overlay",
              "size": 10,
              "solidity": 0.2
             }
            },
            "type": "bar"
           }
          ],
          "barpolar": [
           {
            "marker": {
             "line": {
              "color": "#E5ECF6",
              "width": 0.5
             },
             "pattern": {
              "fillmode": "overlay",
              "size": 10,
              "solidity": 0.2
             }
            },
            "type": "barpolar"
           }
          ],
          "carpet": [
           {
            "aaxis": {
             "endlinecolor": "#2a3f5f",
             "gridcolor": "white",
             "linecolor": "white",
             "minorgridcolor": "white",
             "startlinecolor": "#2a3f5f"
            },
            "baxis": {
             "endlinecolor": "#2a3f5f",
             "gridcolor": "white",
             "linecolor": "white",
             "minorgridcolor": "white",
             "startlinecolor": "#2a3f5f"
            },
            "type": "carpet"
           }
          ],
          "choropleth": [
           {
            "colorbar": {
             "outlinewidth": 0,
             "ticks": ""
            },
            "type": "choropleth"
           }
          ],
          "contour": [
           {
            "colorbar": {
             "outlinewidth": 0,
             "ticks": ""
            },
            "colorscale": [
             [
              0,
              "#0d0887"
             ],
             [
              0.1111111111111111,
              "#46039f"
             ],
             [
              0.2222222222222222,
              "#7201a8"
             ],
             [
              0.3333333333333333,
              "#9c179e"
             ],
             [
              0.4444444444444444,
              "#bd3786"
             ],
             [
              0.5555555555555556,
              "#d8576b"
             ],
             [
              0.6666666666666666,
              "#ed7953"
             ],
             [
              0.7777777777777778,
              "#fb9f3a"
             ],
             [
              0.8888888888888888,
              "#fdca26"
             ],
             [
              1,
              "#f0f921"
             ]
            ],
            "type": "contour"
           }
          ],
          "contourcarpet": [
           {
            "colorbar": {
             "outlinewidth": 0,
             "ticks": ""
            },
            "type": "contourcarpet"
           }
          ],
          "heatmap": [
           {
            "colorbar": {
             "outlinewidth": 0,
             "ticks": ""
            },
            "colorscale": [
             [
              0,
              "#0d0887"
             ],
             [
              0.1111111111111111,
              "#46039f"
             ],
             [
              0.2222222222222222,
              "#7201a8"
             ],
             [
              0.3333333333333333,
              "#9c179e"
             ],
             [
              0.4444444444444444,
              "#bd3786"
             ],
             [
              0.5555555555555556,
              "#d8576b"
             ],
             [
              0.6666666666666666,
              "#ed7953"
             ],
             [
              0.7777777777777778,
              "#fb9f3a"
             ],
             [
              0.8888888888888888,
              "#fdca26"
             ],
             [
              1,
              "#f0f921"
             ]
            ],
            "type": "heatmap"
           }
          ],
          "heatmapgl": [
           {
            "colorbar": {
             "outlinewidth": 0,
             "ticks": ""
            },
            "colorscale": [
             [
              0,
              "#0d0887"
             ],
             [
              0.1111111111111111,
              "#46039f"
             ],
             [
              0.2222222222222222,
              "#7201a8"
             ],
             [
              0.3333333333333333,
              "#9c179e"
             ],
             [
              0.4444444444444444,
              "#bd3786"
             ],
             [
              0.5555555555555556,
              "#d8576b"
             ],
             [
              0.6666666666666666,
              "#ed7953"
             ],
             [
              0.7777777777777778,
              "#fb9f3a"
             ],
             [
              0.8888888888888888,
              "#fdca26"
             ],
             [
              1,
              "#f0f921"
             ]
            ],
            "type": "heatmapgl"
           }
          ],
          "histogram": [
           {
            "marker": {
             "pattern": {
              "fillmode": "overlay",
              "size": 10,
              "solidity": 0.2
             }
            },
            "type": "histogram"
           }
          ],
          "histogram2d": [
           {
            "colorbar": {
             "outlinewidth": 0,
             "ticks": ""
            },
            "colorscale": [
             [
              0,
              "#0d0887"
             ],
             [
              0.1111111111111111,
              "#46039f"
             ],
             [
              0.2222222222222222,
              "#7201a8"
             ],
             [
              0.3333333333333333,
              "#9c179e"
             ],
             [
              0.4444444444444444,
              "#bd3786"
             ],
             [
              0.5555555555555556,
              "#d8576b"
             ],
             [
              0.6666666666666666,
              "#ed7953"
             ],
             [
              0.7777777777777778,
              "#fb9f3a"
             ],
             [
              0.8888888888888888,
              "#fdca26"
             ],
             [
              1,
              "#f0f921"
             ]
            ],
            "type": "histogram2d"
           }
          ],
          "histogram2dcontour": [
           {
            "colorbar": {
             "outlinewidth": 0,
             "ticks": ""
            },
            "colorscale": [
             [
              0,
              "#0d0887"
             ],
             [
              0.1111111111111111,
              "#46039f"
             ],
             [
              0.2222222222222222,
              "#7201a8"
             ],
             [
              0.3333333333333333,
              "#9c179e"
             ],
             [
              0.4444444444444444,
              "#bd3786"
             ],
             [
              0.5555555555555556,
              "#d8576b"
             ],
             [
              0.6666666666666666,
              "#ed7953"
             ],
             [
              0.7777777777777778,
              "#fb9f3a"
             ],
             [
              0.8888888888888888,
              "#fdca26"
             ],
             [
              1,
              "#f0f921"
             ]
            ],
            "type": "histogram2dcontour"
           }
          ],
          "mesh3d": [
           {
            "colorbar": {
             "outlinewidth": 0,
             "ticks": ""
            },
            "type": "mesh3d"
           }
          ],
          "parcoords": [
           {
            "line": {
             "colorbar": {
              "outlinewidth": 0,
              "ticks": ""
             }
            },
            "type": "parcoords"
           }
          ],
          "pie": [
           {
            "automargin": true,
            "type": "pie"
           }
          ],
          "scatter": [
           {
            "marker": {
             "colorbar": {
              "outlinewidth": 0,
              "ticks": ""
             }
            },
            "type": "scatter"
           }
          ],
          "scatter3d": [
           {
            "line": {
             "colorbar": {
              "outlinewidth": 0,
              "ticks": ""
             }
            },
            "marker": {
             "colorbar": {
              "outlinewidth": 0,
              "ticks": ""
             }
            },
            "type": "scatter3d"
           }
          ],
          "scattercarpet": [
           {
            "marker": {
             "colorbar": {
              "outlinewidth": 0,
              "ticks": ""
             }
            },
            "type": "scattercarpet"
           }
          ],
          "scattergeo": [
           {
            "marker": {
             "colorbar": {
              "outlinewidth": 0,
              "ticks": ""
             }
            },
            "type": "scattergeo"
           }
          ],
          "scattergl": [
           {
            "marker": {
             "colorbar": {
              "outlinewidth": 0,
              "ticks": ""
             }
            },
            "type": "scattergl"
           }
          ],
          "scattermapbox": [
           {
            "marker": {
             "colorbar": {
              "outlinewidth": 0,
              "ticks": ""
             }
            },
            "type": "scattermapbox"
           }
          ],
          "scatterpolar": [
           {
            "marker": {
             "colorbar": {
              "outlinewidth": 0,
              "ticks": ""
             }
            },
            "type": "scatterpolar"
           }
          ],
          "scatterpolargl": [
           {
            "marker": {
             "colorbar": {
              "outlinewidth": 0,
              "ticks": ""
             }
            },
            "type": "scatterpolargl"
           }
          ],
          "scatterternary": [
           {
            "marker": {
             "colorbar": {
              "outlinewidth": 0,
              "ticks": ""
             }
            },
            "type": "scatterternary"
           }
          ],
          "surface": [
           {
            "colorbar": {
             "outlinewidth": 0,
             "ticks": ""
            },
            "colorscale": [
             [
              0,
              "#0d0887"
             ],
             [
              0.1111111111111111,
              "#46039f"
             ],
             [
              0.2222222222222222,
              "#7201a8"
             ],
             [
              0.3333333333333333,
              "#9c179e"
             ],
             [
              0.4444444444444444,
              "#bd3786"
             ],
             [
              0.5555555555555556,
              "#d8576b"
             ],
             [
              0.6666666666666666,
              "#ed7953"
             ],
             [
              0.7777777777777778,
              "#fb9f3a"
             ],
             [
              0.8888888888888888,
              "#fdca26"
             ],
             [
              1,
              "#f0f921"
             ]
            ],
            "type": "surface"
           }
          ],
          "table": [
           {
            "cells": {
             "fill": {
              "color": "#EBF0F8"
             },
             "line": {
              "color": "white"
             }
            },
            "header": {
             "fill": {
              "color": "#C8D4E3"
             },
             "line": {
              "color": "white"
             }
            },
            "type": "table"
           }
          ]
         },
         "layout": {
          "annotationdefaults": {
           "arrowcolor": "#2a3f5f",
           "arrowhead": 0,
           "arrowwidth": 1
          },
          "autotypenumbers": "strict",
          "coloraxis": {
           "colorbar": {
            "outlinewidth": 0,
            "ticks": ""
           }
          },
          "colorscale": {
           "diverging": [
            [
             0,
             "#8e0152"
            ],
            [
             0.1,
             "#c51b7d"
            ],
            [
             0.2,
             "#de77ae"
            ],
            [
             0.3,
             "#f1b6da"
            ],
            [
             0.4,
             "#fde0ef"
            ],
            [
             0.5,
             "#f7f7f7"
            ],
            [
             0.6,
             "#e6f5d0"
            ],
            [
             0.7,
             "#b8e186"
            ],
            [
             0.8,
             "#7fbc41"
            ],
            [
             0.9,
             "#4d9221"
            ],
            [
             1,
             "#276419"
            ]
           ],
           "sequential": [
            [
             0,
             "#0d0887"
            ],
            [
             0.1111111111111111,
             "#46039f"
            ],
            [
             0.2222222222222222,
             "#7201a8"
            ],
            [
             0.3333333333333333,
             "#9c179e"
            ],
            [
             0.4444444444444444,
             "#bd3786"
            ],
            [
             0.5555555555555556,
             "#d8576b"
            ],
            [
             0.6666666666666666,
             "#ed7953"
            ],
            [
             0.7777777777777778,
             "#fb9f3a"
            ],
            [
             0.8888888888888888,
             "#fdca26"
            ],
            [
             1,
             "#f0f921"
            ]
           ],
           "sequentialminus": [
            [
             0,
             "#0d0887"
            ],
            [
             0.1111111111111111,
             "#46039f"
            ],
            [
             0.2222222222222222,
             "#7201a8"
            ],
            [
             0.3333333333333333,
             "#9c179e"
            ],
            [
             0.4444444444444444,
             "#bd3786"
            ],
            [
             0.5555555555555556,
             "#d8576b"
            ],
            [
             0.6666666666666666,
             "#ed7953"
            ],
            [
             0.7777777777777778,
             "#fb9f3a"
            ],
            [
             0.8888888888888888,
             "#fdca26"
            ],
            [
             1,
             "#f0f921"
            ]
           ]
          },
          "colorway": [
           "#636efa",
           "#EF553B",
           "#00cc96",
           "#ab63fa",
           "#FFA15A",
           "#19d3f3",
           "#FF6692",
           "#B6E880",
           "#FF97FF",
           "#FECB52"
          ],
          "font": {
           "color": "#2a3f5f"
          },
          "geo": {
           "bgcolor": "white",
           "lakecolor": "white",
           "landcolor": "#E5ECF6",
           "showlakes": true,
           "showland": true,
           "subunitcolor": "white"
          },
          "hoverlabel": {
           "align": "left"
          },
          "hovermode": "closest",
          "mapbox": {
           "style": "light"
          },
          "paper_bgcolor": "white",
          "plot_bgcolor": "#E5ECF6",
          "polar": {
           "angularaxis": {
            "gridcolor": "white",
            "linecolor": "white",
            "ticks": ""
           },
           "bgcolor": "#E5ECF6",
           "radialaxis": {
            "gridcolor": "white",
            "linecolor": "white",
            "ticks": ""
           }
          },
          "scene": {
           "xaxis": {
            "backgroundcolor": "#E5ECF6",
            "gridcolor": "white",
            "gridwidth": 2,
            "linecolor": "white",
            "showbackground": true,
            "ticks": "",
            "zerolinecolor": "white"
           },
           "yaxis": {
            "backgroundcolor": "#E5ECF6",
            "gridcolor": "white",
            "gridwidth": 2,
            "linecolor": "white",
            "showbackground": true,
            "ticks": "",
            "zerolinecolor": "white"
           },
           "zaxis": {
            "backgroundcolor": "#E5ECF6",
            "gridcolor": "white",
            "gridwidth": 2,
            "linecolor": "white",
            "showbackground": true,
            "ticks": "",
            "zerolinecolor": "white"
           }
          },
          "shapedefaults": {
           "line": {
            "color": "#2a3f5f"
           }
          },
          "ternary": {
           "aaxis": {
            "gridcolor": "white",
            "linecolor": "white",
            "ticks": ""
           },
           "baxis": {
            "gridcolor": "white",
            "linecolor": "white",
            "ticks": ""
           },
           "bgcolor": "#E5ECF6",
           "caxis": {
            "gridcolor": "white",
            "linecolor": "white",
            "ticks": ""
           }
          },
          "title": {
           "x": 0.05
          },
          "xaxis": {
           "automargin": true,
           "gridcolor": "white",
           "linecolor": "white",
           "ticks": "",
           "title": {
            "standoff": 15
           },
           "zerolinecolor": "white",
           "zerolinewidth": 2
          },
          "yaxis": {
           "automargin": true,
           "gridcolor": "white",
           "linecolor": "white",
           "ticks": "",
           "title": {
            "standoff": 15
           },
           "zerolinecolor": "white",
           "zerolinewidth": 2
          }
         }
        }
       }
      },
      "text/html": [
       "<div>                            <div id=\"ab8145b4-b856-42fa-beb2-bc7b01de722a\" class=\"plotly-graph-div\" style=\"height:525px; width:100%;\"></div>            <script type=\"text/javascript\">                require([\"plotly\"], function(Plotly) {                    window.PLOTLYENV=window.PLOTLYENV || {};                                    if (document.getElementById(\"ab8145b4-b856-42fa-beb2-bc7b01de722a\")) {                    Plotly.newPlot(                        \"ab8145b4-b856-42fa-beb2-bc7b01de722a\",                        [{\"customdata\":[[\"2\"],[\"2\"],[\"2\"],[\"2\"],[\"2\"],[\"5\"],[null],[null],[null],[null],[\"5\"],[\"2\"],[\"2\"],[\"2\"],[\"2\"],[\"2\"],[\"1\"],[null],[null],[null],[\"3\"],[null],[\"8\"],[null],[null],[null],[\"2\"],[null],[\"2\"],[\"2\"],[\"2\"],[\"2\"],[null],[\"2\"],[\"2\"],[\"2\"],[\"2\"],[\"2\"],[\"2\"],[null],[\"5\"],[null],[\"2\"],[null],[null],[\"2\"],[null],[null],[null],[null],[null],[null],[null],[null],[\"2\"],[\"2\"],[\"2\"],[null],[null],[\"1\"],[\"1\"],[\"1\"],[\"6\"],[null],[null],[\"2\"],[\"2\"],[null],[null]],\"hovertemplate\":\"<b>%{hovertext}</b><br><br>latitude=%{lat}<br>longitude=%{lon}<br>capacity=%{customdata[0]}<extra></extra>\",\"hovertext\":[\"Evway\",\"Evway\",\"Evway\",\"Evway\",\"Evway\",\"Bluetorino\",\"nan\",\"BlueTorino\",\"BlueTorino\",\"BlueTorino\",\"BlueTorino\",\"Evway\",\"Evway\",\"Evway\",\"Evway\",\"Evway\",\"BlueTorino\",\"PAM\",\"Duferco Energia\",\"eviso\",\"BlueTorino\",\"enel x\",\"Tesla\",\"enel X\",\"Enel X\",\"Enel X\",\"enel x\",\"enel x\",\"enel x\",\"enel x\",\"Enel X\",\"enel x\",\"enel x\",\"Enel X\",\"Enel X\",\"Enel X\",\"Enel X\",\"Enel X\",\"Enel X\",\"BlueTorino\",\"BlueTorino\",\"Enel X\",\"nan\",\"nan\",\"nan\",\"Enel\",\"nan\",\"nan\",\"nan\",\"nan\",\"nan\",\"nan\",\"nan\",\"nan\",\"nan\",\"Enel\",\"Enel\",\"Enel X\",\"nan\",\"nan\",\"nan\",\"nan\",\"Ebike Valli di Lanzo\",\"nan\",\"evway\",\"Enel X\",\"Enel X\",\"nan\",\"Enel\"],\"lat\":[45.0739597,45.0762419,45.0638431,45.0683594,45.0650768,45.0187672,45.0720716,45.0468929,45.0489298,45.0474513,45.0509597,45.0700267,45.0708356,45.0665629,45.0737839,45.053075,45.0742132,45.0527892,45.0653192,44.8658413,45.0927476,45.2719631,44.9733201,45.2644314,44.9786002,44.9786114,45.2187424,45.3701923,45.2328037,45.2286875,44.9807946,45.1778307,45.2719823,45.238651,44.8214657,45.1819992,45.1820504,45.1820813,44.8474519,45.0135627,45.0653874,45.0195336,45.1346973,45.0866862,45.0784543,44.9708196,45.1740125,45.0825263,45.0204178,45.0191906,45.0239722,45.0169864,45.0233799,45.0271,45.0445755,44.9749385,44.9749385,45.1019694,45.0453508,45.0493588,45.0493172,45.0492751,45.2389251,45.0983777,45.2035886,44.9584856,44.8793887,45.1755676,45.2326155],\"legendgroup\":\"\",\"lon\":[7.6840641,7.6716763,7.6761515,7.6762525,7.6935374,7.6483631,7.66497,7.6626022,7.6561472,7.6470614,7.6226465,7.6866531,7.6657614,7.681345,7.6757969,7.6694843,7.724057,7.6493465,7.3932626,7.2692224,7.7007653,7.4811183,7.7301547,7.4712417,7.7350324,7.7349616,7.1899249,7.2770996,7.2215911,7.2952667,7.7362455,7.382954,7.4810605,7.3730594,7.3021085,7.7171016,7.7171587,7.7171984,7.7323157,7.6255209,7.648087,7.659951,7.044139,7.6708899,7.6988918,7.778687,7.6503606,7.3337452,7.6146422,7.6339036,7.6369673,7.6551944,7.6472093,7.6404912,7.6734667,7.7078293,7.7078819,7.3636151,7.4697206,7.6811868,7.6811611,7.6811332,7.3763739,7.5805593,7.6365609,7.1897015,7.3322046,7.8378457,7.5986861],\"marker\":{\"color\":\"black\"},\"mode\":\"markers\",\"name\":\"\",\"showlegend\":false,\"subplot\":\"mapbox\",\"type\":\"scattermapbox\"}],                        {\"legend\":{\"tracegroupgap\":0},\"mapbox\":{\"center\":{\"lat\":45.116177,\"lon\":7.742615},\"domain\":{\"x\":[0.0,1.0],\"y\":[0.0,1.0]},\"style\":\"open-street-map\",\"zoom\":10},\"margin\":{\"b\":0,\"l\":0,\"r\":0,\"t\":0},\"template\":{\"data\":{\"bar\":[{\"error_x\":{\"color\":\"#2a3f5f\"},\"error_y\":{\"color\":\"#2a3f5f\"},\"marker\":{\"line\":{\"color\":\"#E5ECF6\",\"width\":0.5},\"pattern\":{\"fillmode\":\"overlay\",\"size\":10,\"solidity\":0.2}},\"type\":\"bar\"}],\"barpolar\":[{\"marker\":{\"line\":{\"color\":\"#E5ECF6\",\"width\":0.5},\"pattern\":{\"fillmode\":\"overlay\",\"size\":10,\"solidity\":0.2}},\"type\":\"barpolar\"}],\"carpet\":[{\"aaxis\":{\"endlinecolor\":\"#2a3f5f\",\"gridcolor\":\"white\",\"linecolor\":\"white\",\"minorgridcolor\":\"white\",\"startlinecolor\":\"#2a3f5f\"},\"baxis\":{\"endlinecolor\":\"#2a3f5f\",\"gridcolor\":\"white\",\"linecolor\":\"white\",\"minorgridcolor\":\"white\",\"startlinecolor\":\"#2a3f5f\"},\"type\":\"carpet\"}],\"choropleth\":[{\"colorbar\":{\"outlinewidth\":0,\"ticks\":\"\"},\"type\":\"choropleth\"}],\"contour\":[{\"colorbar\":{\"outlinewidth\":0,\"ticks\":\"\"},\"colorscale\":[[0.0,\"#0d0887\"],[0.1111111111111111,\"#46039f\"],[0.2222222222222222,\"#7201a8\"],[0.3333333333333333,\"#9c179e\"],[0.4444444444444444,\"#bd3786\"],[0.5555555555555556,\"#d8576b\"],[0.6666666666666666,\"#ed7953\"],[0.7777777777777778,\"#fb9f3a\"],[0.8888888888888888,\"#fdca26\"],[1.0,\"#f0f921\"]],\"type\":\"contour\"}],\"contourcarpet\":[{\"colorbar\":{\"outlinewidth\":0,\"ticks\":\"\"},\"type\":\"contourcarpet\"}],\"heatmap\":[{\"colorbar\":{\"outlinewidth\":0,\"ticks\":\"\"},\"colorscale\":[[0.0,\"#0d0887\"],[0.1111111111111111,\"#46039f\"],[0.2222222222222222,\"#7201a8\"],[0.3333333333333333,\"#9c179e\"],[0.4444444444444444,\"#bd3786\"],[0.5555555555555556,\"#d8576b\"],[0.6666666666666666,\"#ed7953\"],[0.7777777777777778,\"#fb9f3a\"],[0.8888888888888888,\"#fdca26\"],[1.0,\"#f0f921\"]],\"type\":\"heatmap\"}],\"heatmapgl\":[{\"colorbar\":{\"outlinewidth\":0,\"ticks\":\"\"},\"colorscale\":[[0.0,\"#0d0887\"],[0.1111111111111111,\"#46039f\"],[0.2222222222222222,\"#7201a8\"],[0.3333333333333333,\"#9c179e\"],[0.4444444444444444,\"#bd3786\"],[0.5555555555555556,\"#d8576b\"],[0.6666666666666666,\"#ed7953\"],[0.7777777777777778,\"#fb9f3a\"],[0.8888888888888888,\"#fdca26\"],[1.0,\"#f0f921\"]],\"type\":\"heatmapgl\"}],\"histogram\":[{\"marker\":{\"pattern\":{\"fillmode\":\"overlay\",\"size\":10,\"solidity\":0.2}},\"type\":\"histogram\"}],\"histogram2d\":[{\"colorbar\":{\"outlinewidth\":0,\"ticks\":\"\"},\"colorscale\":[[0.0,\"#0d0887\"],[0.1111111111111111,\"#46039f\"],[0.2222222222222222,\"#7201a8\"],[0.3333333333333333,\"#9c179e\"],[0.4444444444444444,\"#bd3786\"],[0.5555555555555556,\"#d8576b\"],[0.6666666666666666,\"#ed7953\"],[0.7777777777777778,\"#fb9f3a\"],[0.8888888888888888,\"#fdca26\"],[1.0,\"#f0f921\"]],\"type\":\"histogram2d\"}],\"histogram2dcontour\":[{\"colorbar\":{\"outlinewidth\":0,\"ticks\":\"\"},\"colorscale\":[[0.0,\"#0d0887\"],[0.1111111111111111,\"#46039f\"],[0.2222222222222222,\"#7201a8\"],[0.3333333333333333,\"#9c179e\"],[0.4444444444444444,\"#bd3786\"],[0.5555555555555556,\"#d8576b\"],[0.6666666666666666,\"#ed7953\"],[0.7777777777777778,\"#fb9f3a\"],[0.8888888888888888,\"#fdca26\"],[1.0,\"#f0f921\"]],\"type\":\"histogram2dcontour\"}],\"mesh3d\":[{\"colorbar\":{\"outlinewidth\":0,\"ticks\":\"\"},\"type\":\"mesh3d\"}],\"parcoords\":[{\"line\":{\"colorbar\":{\"outlinewidth\":0,\"ticks\":\"\"}},\"type\":\"parcoords\"}],\"pie\":[{\"automargin\":true,\"type\":\"pie\"}],\"scatter\":[{\"marker\":{\"colorbar\":{\"outlinewidth\":0,\"ticks\":\"\"}},\"type\":\"scatter\"}],\"scatter3d\":[{\"line\":{\"colorbar\":{\"outlinewidth\":0,\"ticks\":\"\"}},\"marker\":{\"colorbar\":{\"outlinewidth\":0,\"ticks\":\"\"}},\"type\":\"scatter3d\"}],\"scattercarpet\":[{\"marker\":{\"colorbar\":{\"outlinewidth\":0,\"ticks\":\"\"}},\"type\":\"scattercarpet\"}],\"scattergeo\":[{\"marker\":{\"colorbar\":{\"outlinewidth\":0,\"ticks\":\"\"}},\"type\":\"scattergeo\"}],\"scattergl\":[{\"marker\":{\"colorbar\":{\"outlinewidth\":0,\"ticks\":\"\"}},\"type\":\"scattergl\"}],\"scattermapbox\":[{\"marker\":{\"colorbar\":{\"outlinewidth\":0,\"ticks\":\"\"}},\"type\":\"scattermapbox\"}],\"scatterpolar\":[{\"marker\":{\"colorbar\":{\"outlinewidth\":0,\"ticks\":\"\"}},\"type\":\"scatterpolar\"}],\"scatterpolargl\":[{\"marker\":{\"colorbar\":{\"outlinewidth\":0,\"ticks\":\"\"}},\"type\":\"scatterpolargl\"}],\"scatterternary\":[{\"marker\":{\"colorbar\":{\"outlinewidth\":0,\"ticks\":\"\"}},\"type\":\"scatterternary\"}],\"surface\":[{\"colorbar\":{\"outlinewidth\":0,\"ticks\":\"\"},\"colorscale\":[[0.0,\"#0d0887\"],[0.1111111111111111,\"#46039f\"],[0.2222222222222222,\"#7201a8\"],[0.3333333333333333,\"#9c179e\"],[0.4444444444444444,\"#bd3786\"],[0.5555555555555556,\"#d8576b\"],[0.6666666666666666,\"#ed7953\"],[0.7777777777777778,\"#fb9f3a\"],[0.8888888888888888,\"#fdca26\"],[1.0,\"#f0f921\"]],\"type\":\"surface\"}],\"table\":[{\"cells\":{\"fill\":{\"color\":\"#EBF0F8\"},\"line\":{\"color\":\"white\"}},\"header\":{\"fill\":{\"color\":\"#C8D4E3\"},\"line\":{\"color\":\"white\"}},\"type\":\"table\"}]},\"layout\":{\"annotationdefaults\":{\"arrowcolor\":\"#2a3f5f\",\"arrowhead\":0,\"arrowwidth\":1},\"autotypenumbers\":\"strict\",\"coloraxis\":{\"colorbar\":{\"outlinewidth\":0,\"ticks\":\"\"}},\"colorscale\":{\"diverging\":[[0,\"#8e0152\"],[0.1,\"#c51b7d\"],[0.2,\"#de77ae\"],[0.3,\"#f1b6da\"],[0.4,\"#fde0ef\"],[0.5,\"#f7f7f7\"],[0.6,\"#e6f5d0\"],[0.7,\"#b8e186\"],[0.8,\"#7fbc41\"],[0.9,\"#4d9221\"],[1,\"#276419\"]],\"sequential\":[[0.0,\"#0d0887\"],[0.1111111111111111,\"#46039f\"],[0.2222222222222222,\"#7201a8\"],[0.3333333333333333,\"#9c179e\"],[0.4444444444444444,\"#bd3786\"],[0.5555555555555556,\"#d8576b\"],[0.6666666666666666,\"#ed7953\"],[0.7777777777777778,\"#fb9f3a\"],[0.8888888888888888,\"#fdca26\"],[1.0,\"#f0f921\"]],\"sequentialminus\":[[0.0,\"#0d0887\"],[0.1111111111111111,\"#46039f\"],[0.2222222222222222,\"#7201a8\"],[0.3333333333333333,\"#9c179e\"],[0.4444444444444444,\"#bd3786\"],[0.5555555555555556,\"#d8576b\"],[0.6666666666666666,\"#ed7953\"],[0.7777777777777778,\"#fb9f3a\"],[0.8888888888888888,\"#fdca26\"],[1.0,\"#f0f921\"]]},\"colorway\":[\"#636efa\",\"#EF553B\",\"#00cc96\",\"#ab63fa\",\"#FFA15A\",\"#19d3f3\",\"#FF6692\",\"#B6E880\",\"#FF97FF\",\"#FECB52\"],\"font\":{\"color\":\"#2a3f5f\"},\"geo\":{\"bgcolor\":\"white\",\"lakecolor\":\"white\",\"landcolor\":\"#E5ECF6\",\"showlakes\":true,\"showland\":true,\"subunitcolor\":\"white\"},\"hoverlabel\":{\"align\":\"left\"},\"hovermode\":\"closest\",\"mapbox\":{\"style\":\"light\"},\"paper_bgcolor\":\"white\",\"plot_bgcolor\":\"#E5ECF6\",\"polar\":{\"angularaxis\":{\"gridcolor\":\"white\",\"linecolor\":\"white\",\"ticks\":\"\"},\"bgcolor\":\"#E5ECF6\",\"radialaxis\":{\"gridcolor\":\"white\",\"linecolor\":\"white\",\"ticks\":\"\"}},\"scene\":{\"xaxis\":{\"backgroundcolor\":\"#E5ECF6\",\"gridcolor\":\"white\",\"gridwidth\":2,\"linecolor\":\"white\",\"showbackground\":true,\"ticks\":\"\",\"zerolinecolor\":\"white\"},\"yaxis\":{\"backgroundcolor\":\"#E5ECF6\",\"gridcolor\":\"white\",\"gridwidth\":2,\"linecolor\":\"white\",\"showbackground\":true,\"ticks\":\"\",\"zerolinecolor\":\"white\"},\"zaxis\":{\"backgroundcolor\":\"#E5ECF6\",\"gridcolor\":\"white\",\"gridwidth\":2,\"linecolor\":\"white\",\"showbackground\":true,\"ticks\":\"\",\"zerolinecolor\":\"white\"}},\"shapedefaults\":{\"line\":{\"color\":\"#2a3f5f\"}},\"ternary\":{\"aaxis\":{\"gridcolor\":\"white\",\"linecolor\":\"white\",\"ticks\":\"\"},\"baxis\":{\"gridcolor\":\"white\",\"linecolor\":\"white\",\"ticks\":\"\"},\"bgcolor\":\"#E5ECF6\",\"caxis\":{\"gridcolor\":\"white\",\"linecolor\":\"white\",\"ticks\":\"\"}},\"title\":{\"x\":0.05},\"xaxis\":{\"automargin\":true,\"gridcolor\":\"white\",\"linecolor\":\"white\",\"ticks\":\"\",\"title\":{\"standoff\":15},\"zerolinecolor\":\"white\",\"zerolinewidth\":2},\"yaxis\":{\"automargin\":true,\"gridcolor\":\"white\",\"linecolor\":\"white\",\"ticks\":\"\",\"title\":{\"standoff\":15},\"zerolinecolor\":\"white\",\"zerolinewidth\":2}}}},                        {\"responsive\": true}                    ).then(function(){\n",
       "                            \n",
       "var gd = document.getElementById('ab8145b4-b856-42fa-beb2-bc7b01de722a');\n",
       "var x = new MutationObserver(function (mutations, observer) {{\n",
       "        var display = window.getComputedStyle(gd).display;\n",
       "        if (!display || display === 'none') {{\n",
       "            console.log([gd, 'removed!']);\n",
       "            Plotly.purge(gd);\n",
       "            observer.disconnect();\n",
       "        }}\n",
       "}});\n",
       "\n",
       "// Listen for the removal of the full notebook cells\n",
       "var notebookContainer = gd.closest('#notebook-container');\n",
       "if (notebookContainer) {{\n",
       "    x.observe(notebookContainer, {childList: true});\n",
       "}}\n",
       "\n",
       "// Listen for the clearing of the current output cell\n",
       "var outputEl = gd.closest('.output');\n",
       "if (outputEl) {{\n",
       "    x.observe(outputEl, {childList: true});\n",
       "}}\n",
       "\n",
       "                        })                };                });            </script>        </div>"
      ]
     },
     "metadata": {},
     "output_type": "display_data"
    }
   ],
   "source": [
    "import plotly.express as px\n",
    "fig = px.scatter_mapbox(am, lat=\"latitude\", lon=\"longitude\",\n",
    "                        color_discrete_sequence=[\"black\"], hover_data=['capacity'],\n",
    "                        hover_name=\"operator\", zoom=10,center={\"lat\": 45.116177 ,\"lon\": 7.742615})\n",
    "fig.update_layout(mapbox_style=\"open-street-map\")\n",
    "fig.update_layout(margin={\"r\":0,\"t\":0,\"l\":0,\"b\":0})\n",
    "fig.show()"
   ]
  },
  {
   "cell_type": "code",
   "execution_count": 2,
   "id": "87d76188",
   "metadata": {},
   "outputs": [
    {
     "data": {
      "text/plain": [
       "<odysseus.supply_modelling.supply_model.SupplyModel at 0x7fa91c280e50>"
      ]
     },
     "execution_count": 2,
     "metadata": {},
     "output_type": "execute_result"
    }
   ],
   "source": [
    "import pandas as pd\n",
    "pd.read_pickle('/home/user/Scrivania/odysseus_last/odysseus/odysseus/supply_modelling/supply_models/Torino/brendan_1/supply_model.pickle')"
   ]
  },
  {
   "cell_type": "code",
   "execution_count": 15,
   "id": "c960262b",
   "metadata": {},
   "outputs": [
    {
     "ename": "TypeError",
     "evalue": "dump() missing required argument 'file' (pos 2)",
     "output_type": "error",
     "traceback": [
      "\u001b[0;31m---------------------------------------------------------------------------\u001b[0m",
      "\u001b[0;31mTypeError\u001b[0m                                 Traceback (most recent call last)",
      "\u001b[0;32m/tmp/ipykernel_14486/3259480671.py\u001b[0m in \u001b[0;36m<module>\u001b[0;34m\u001b[0m\n\u001b[1;32m      4\u001b[0m \u001b[0;32mwhile\u001b[0m \u001b[0;32mTrue\u001b[0m\u001b[0;34m:\u001b[0m\u001b[0;34m\u001b[0m\u001b[0;34m\u001b[0m\u001b[0m\n\u001b[1;32m      5\u001b[0m     \u001b[0;32mtry\u001b[0m\u001b[0;34m:\u001b[0m\u001b[0;34m\u001b[0m\u001b[0;34m\u001b[0m\u001b[0m\n\u001b[0;32m----> 6\u001b[0;31m         \u001b[0mpickle_list\u001b[0m\u001b[0;34m.\u001b[0m\u001b[0mappend\u001b[0m\u001b[0;34m(\u001b[0m\u001b[0mpickle\u001b[0m\u001b[0;34m.\u001b[0m\u001b[0mdump\u001b[0m\u001b[0;34m(\u001b[0m\u001b[0mf\u001b[0m\u001b[0;34m)\u001b[0m\u001b[0;34m)\u001b[0m\u001b[0;34m\u001b[0m\u001b[0;34m\u001b[0m\u001b[0m\n\u001b[0m\u001b[1;32m      7\u001b[0m     \u001b[0;32mexcept\u001b[0m \u001b[0mEOFError\u001b[0m\u001b[0;34m:\u001b[0m\u001b[0;34m\u001b[0m\u001b[0;34m\u001b[0m\u001b[0m\n\u001b[1;32m      8\u001b[0m         \u001b[0;32mbreak\u001b[0m\u001b[0;34m\u001b[0m\u001b[0;34m\u001b[0m\u001b[0m\n",
      "\u001b[0;31mTypeError\u001b[0m: dump() missing required argument 'file' (pos 2)"
     ]
    }
   ],
   "source": [
    "import pickle\n",
    "pickle_list =[]\n",
    "f  = open('/home/user/Scrivania/odysseus_last/odysseus/odysseus/supply_modelling/supply_models/Torino/supply_model.pickle', 'rb')\n",
    "while True:\n",
    "    try:\n",
    "        pickle_list.append(pickle.dump(f))\n",
    "    except EOFError:\n",
    "        break\n",
    "f.close()"
   ]
  },
  {
   "cell_type": "code",
   "execution_count": 16,
   "id": "6ef06e3f",
   "metadata": {},
   "outputs": [],
   "source": [
    "objects = []\n",
    "with (open(\"/home/user/Scrivania/odysseus_last/odysseus/odysseus/supply_modelling/supply_models/Torino/supply_model.pickle\", \"rb\")) as openfile:\n",
    "    while True:\n",
    "        try:\n",
    "            objects.append(pickle.load(openfile))\n",
    "        except EOFError:\n",
    "            break"
   ]
  },
  {
   "cell_type": "code",
   "execution_count": null,
   "id": "904421ad",
   "metadata": {},
   "outputs": [],
   "source": []
  }
 ],
 "metadata": {
  "kernelspec": {
   "display_name": "Python 3 (ipykernel)",
   "language": "python",
   "name": "python3"
  },
  "language_info": {
   "codemirror_mode": {
    "name": "ipython",
    "version": 3
   },
   "file_extension": ".py",
   "mimetype": "text/x-python",
   "name": "python",
   "nbconvert_exporter": "python",
   "pygments_lexer": "ipython3",
   "version": "3.9.5"
  }
 },
 "nbformat": 4,
 "nbformat_minor": 5
}
