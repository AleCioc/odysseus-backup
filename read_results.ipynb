{
 "cells": [
  {
   "cell_type": "code",
   "execution_count": 2,
   "outputs": [],
   "source": [
    "import pandas as pd"
   ],
   "metadata": {
    "collapsed": false,
    "pycharm": {
     "name": "#%%\n"
    }
   }
  },
  {
   "cell_type": "code",
   "execution_count": 6,
   "outputs": [],
   "source": [
    "sim_booking_requests = pd.read_csv(\n",
    "    \"odysseus/simulator/results/my_city_3X3_generated/single_run/od_test_3X3_no_relo/0_0_0/sim_booking_requests.csv\"\n",
    ")"
   ],
   "metadata": {
    "collapsed": false,
    "pycharm": {
     "name": "#%%\n"
    }
   }
  },
  {
   "cell_type": "code",
   "execution_count": 7,
   "outputs": [
    {
     "data": {
      "text/plain": "       Unnamed: 0  origin_id  destination_id  \\\n0               0          7               7   \n1               1          0               2   \n2               2          2               3   \n3               3          6               0   \n4               4          6               6   \n...           ...        ...             ...   \n47594       47594          1               6   \n47595       47595          8               1   \n47596       47596          4               3   \n47597       47597          7               5   \n47598       47598          6               6   \n\n                             start_time                          end_time  \\\n0      2023-01-31 23:45:34.084221+00:00  2023-02-01 00:19:13.570797+00:00   \n1      2023-01-31 23:45:55.177928+00:00  2023-02-01 00:12:30.659315+00:00   \n2      2023-01-31 23:46:14.711880+00:00  2023-02-01 00:12:11.281138+00:00   \n3      2023-01-31 23:46:39.736341+00:00  2023-02-01 00:28:01.638978+00:00   \n4      2023-01-31 23:46:40.241934+00:00  2023-02-01 00:25:38.383389+00:00   \n...                                 ...                               ...   \n47594  2023-02-28 23:12:04.712828+00:00  2023-02-28 23:21:50.857144+00:00   \n47595  2023-02-28 23:12:32.464748+00:00  2023-02-28 23:22:59.459689+00:00   \n47596  2023-02-28 23:12:44.365673+00:00  2023-02-28 23:19:57.349459+00:00   \n47597  2023-02-28 23:13:08.508650+00:00  2023-02-28 23:13:46.924440+00:00   \n47598  2023-02-28 23:13:42.305261+00:00  2023-02-28 23:17:32.991126+00:00   \n\n       ia_timeout  euclidean_distance  driving_distance        date  hour  \\\n0       31.429558            0.000000        500.000000  2023-01-31    23   \n1       21.093707         3000.000000       4200.000000  2023-01-31    23   \n2       19.533952         3354.101966       4695.742753  2023-01-31    23   \n3       25.024461         3000.000000       4200.000000  2023-01-31    23   \n4        0.505593            0.000000        500.000000  2023-01-31    23   \n...           ...                 ...               ...         ...   ...   \n47594    7.278608         3354.101966       4695.742753  2023-02-28    23   \n47595   19.011145         3354.101966       4695.742753  2023-02-28    23   \n47596    3.883114         1500.000000       2100.000000  2023-02-28    23   \n47597   11.509474         2121.320344       2969.848481  2023-02-28    23   \n47598   33.796611            0.000000        500.000000  2023-02-28    23   \n\n       ...  tanktowheel_kwh  soc_delta_kwh welltotank_emissions  \\\n0      ...         0.337382       0.418353            20.647755   \n1      ...         2.834006       3.514167           173.441139   \n2      ...         3.168515       3.928958           193.913089   \n3      ...         2.834006       3.514167           173.441139   \n4      ...         0.337382       0.418353            20.647755   \n...    ...              ...            ...                  ...   \n47594  ...         3.168515       3.928958           193.913089   \n47595  ...              NaN            NaN                  NaN   \n47596  ...         1.417003       1.757083            86.720570   \n47597  ...              NaN            NaN                  NaN   \n47598  ...              NaN            NaN                  NaN   \n\n       tanktowheel_emissions  co2_emissions  n_vehicles_charging_system  \\\n0                  89.629528     110.277283                           0   \n1                 752.888035     926.329175                           0   \n2                 841.754413    1035.667502                           0   \n3                 752.888035     926.329175                           0   \n4                  89.629528     110.277283                           0   \n...                      ...            ...                         ...   \n47594             841.754413    1035.667502                           0   \n47595                    NaN            NaN                           0   \n47596             376.444018     463.164587                           0   \n47597                    NaN            NaN                           0   \n47598                    NaN            NaN                           0   \n\n       n_vehicles_charging_users  n_vehicles_available  n_vehicles_booked  \\\n0                              0                    40                  0   \n1                              0                    39                  1   \n2                              0                    38                  2   \n3                              0                    37                  3   \n4                              0                    36                  4   \n...                          ...                   ...                ...   \n47594                          0                     2                 38   \n47595                          0                     1                 39   \n47596                          0                     1                 39   \n47597                          0                     1                 39   \n47598                          0                     2                 38   \n\n       n_vehicles_dead  \n0                    0  \n1                    0  \n2                    0  \n3                    0  \n4                    0  \n...                ...  \n47594                0  \n47595                0  \n47596                0  \n47597                0  \n47598                0  \n\n[47599 rows x 26 columns]",
      "text/html": "<div>\n<style scoped>\n    .dataframe tbody tr th:only-of-type {\n        vertical-align: middle;\n    }\n\n    .dataframe tbody tr th {\n        vertical-align: top;\n    }\n\n    .dataframe thead th {\n        text-align: right;\n    }\n</style>\n<table border=\"1\" class=\"dataframe\">\n  <thead>\n    <tr style=\"text-align: right;\">\n      <th></th>\n      <th>Unnamed: 0</th>\n      <th>origin_id</th>\n      <th>destination_id</th>\n      <th>start_time</th>\n      <th>end_time</th>\n      <th>ia_timeout</th>\n      <th>euclidean_distance</th>\n      <th>driving_distance</th>\n      <th>date</th>\n      <th>hour</th>\n      <th>...</th>\n      <th>tanktowheel_kwh</th>\n      <th>soc_delta_kwh</th>\n      <th>welltotank_emissions</th>\n      <th>tanktowheel_emissions</th>\n      <th>co2_emissions</th>\n      <th>n_vehicles_charging_system</th>\n      <th>n_vehicles_charging_users</th>\n      <th>n_vehicles_available</th>\n      <th>n_vehicles_booked</th>\n      <th>n_vehicles_dead</th>\n    </tr>\n  </thead>\n  <tbody>\n    <tr>\n      <th>0</th>\n      <td>0</td>\n      <td>7</td>\n      <td>7</td>\n      <td>2023-01-31 23:45:34.084221+00:00</td>\n      <td>2023-02-01 00:19:13.570797+00:00</td>\n      <td>31.429558</td>\n      <td>0.000000</td>\n      <td>500.000000</td>\n      <td>2023-01-31</td>\n      <td>23</td>\n      <td>...</td>\n      <td>0.337382</td>\n      <td>0.418353</td>\n      <td>20.647755</td>\n      <td>89.629528</td>\n      <td>110.277283</td>\n      <td>0</td>\n      <td>0</td>\n      <td>40</td>\n      <td>0</td>\n      <td>0</td>\n    </tr>\n    <tr>\n      <th>1</th>\n      <td>1</td>\n      <td>0</td>\n      <td>2</td>\n      <td>2023-01-31 23:45:55.177928+00:00</td>\n      <td>2023-02-01 00:12:30.659315+00:00</td>\n      <td>21.093707</td>\n      <td>3000.000000</td>\n      <td>4200.000000</td>\n      <td>2023-01-31</td>\n      <td>23</td>\n      <td>...</td>\n      <td>2.834006</td>\n      <td>3.514167</td>\n      <td>173.441139</td>\n      <td>752.888035</td>\n      <td>926.329175</td>\n      <td>0</td>\n      <td>0</td>\n      <td>39</td>\n      <td>1</td>\n      <td>0</td>\n    </tr>\n    <tr>\n      <th>2</th>\n      <td>2</td>\n      <td>2</td>\n      <td>3</td>\n      <td>2023-01-31 23:46:14.711880+00:00</td>\n      <td>2023-02-01 00:12:11.281138+00:00</td>\n      <td>19.533952</td>\n      <td>3354.101966</td>\n      <td>4695.742753</td>\n      <td>2023-01-31</td>\n      <td>23</td>\n      <td>...</td>\n      <td>3.168515</td>\n      <td>3.928958</td>\n      <td>193.913089</td>\n      <td>841.754413</td>\n      <td>1035.667502</td>\n      <td>0</td>\n      <td>0</td>\n      <td>38</td>\n      <td>2</td>\n      <td>0</td>\n    </tr>\n    <tr>\n      <th>3</th>\n      <td>3</td>\n      <td>6</td>\n      <td>0</td>\n      <td>2023-01-31 23:46:39.736341+00:00</td>\n      <td>2023-02-01 00:28:01.638978+00:00</td>\n      <td>25.024461</td>\n      <td>3000.000000</td>\n      <td>4200.000000</td>\n      <td>2023-01-31</td>\n      <td>23</td>\n      <td>...</td>\n      <td>2.834006</td>\n      <td>3.514167</td>\n      <td>173.441139</td>\n      <td>752.888035</td>\n      <td>926.329175</td>\n      <td>0</td>\n      <td>0</td>\n      <td>37</td>\n      <td>3</td>\n      <td>0</td>\n    </tr>\n    <tr>\n      <th>4</th>\n      <td>4</td>\n      <td>6</td>\n      <td>6</td>\n      <td>2023-01-31 23:46:40.241934+00:00</td>\n      <td>2023-02-01 00:25:38.383389+00:00</td>\n      <td>0.505593</td>\n      <td>0.000000</td>\n      <td>500.000000</td>\n      <td>2023-01-31</td>\n      <td>23</td>\n      <td>...</td>\n      <td>0.337382</td>\n      <td>0.418353</td>\n      <td>20.647755</td>\n      <td>89.629528</td>\n      <td>110.277283</td>\n      <td>0</td>\n      <td>0</td>\n      <td>36</td>\n      <td>4</td>\n      <td>0</td>\n    </tr>\n    <tr>\n      <th>...</th>\n      <td>...</td>\n      <td>...</td>\n      <td>...</td>\n      <td>...</td>\n      <td>...</td>\n      <td>...</td>\n      <td>...</td>\n      <td>...</td>\n      <td>...</td>\n      <td>...</td>\n      <td>...</td>\n      <td>...</td>\n      <td>...</td>\n      <td>...</td>\n      <td>...</td>\n      <td>...</td>\n      <td>...</td>\n      <td>...</td>\n      <td>...</td>\n      <td>...</td>\n      <td>...</td>\n    </tr>\n    <tr>\n      <th>47594</th>\n      <td>47594</td>\n      <td>1</td>\n      <td>6</td>\n      <td>2023-02-28 23:12:04.712828+00:00</td>\n      <td>2023-02-28 23:21:50.857144+00:00</td>\n      <td>7.278608</td>\n      <td>3354.101966</td>\n      <td>4695.742753</td>\n      <td>2023-02-28</td>\n      <td>23</td>\n      <td>...</td>\n      <td>3.168515</td>\n      <td>3.928958</td>\n      <td>193.913089</td>\n      <td>841.754413</td>\n      <td>1035.667502</td>\n      <td>0</td>\n      <td>0</td>\n      <td>2</td>\n      <td>38</td>\n      <td>0</td>\n    </tr>\n    <tr>\n      <th>47595</th>\n      <td>47595</td>\n      <td>8</td>\n      <td>1</td>\n      <td>2023-02-28 23:12:32.464748+00:00</td>\n      <td>2023-02-28 23:22:59.459689+00:00</td>\n      <td>19.011145</td>\n      <td>3354.101966</td>\n      <td>4695.742753</td>\n      <td>2023-02-28</td>\n      <td>23</td>\n      <td>...</td>\n      <td>NaN</td>\n      <td>NaN</td>\n      <td>NaN</td>\n      <td>NaN</td>\n      <td>NaN</td>\n      <td>0</td>\n      <td>0</td>\n      <td>1</td>\n      <td>39</td>\n      <td>0</td>\n    </tr>\n    <tr>\n      <th>47596</th>\n      <td>47596</td>\n      <td>4</td>\n      <td>3</td>\n      <td>2023-02-28 23:12:44.365673+00:00</td>\n      <td>2023-02-28 23:19:57.349459+00:00</td>\n      <td>3.883114</td>\n      <td>1500.000000</td>\n      <td>2100.000000</td>\n      <td>2023-02-28</td>\n      <td>23</td>\n      <td>...</td>\n      <td>1.417003</td>\n      <td>1.757083</td>\n      <td>86.720570</td>\n      <td>376.444018</td>\n      <td>463.164587</td>\n      <td>0</td>\n      <td>0</td>\n      <td>1</td>\n      <td>39</td>\n      <td>0</td>\n    </tr>\n    <tr>\n      <th>47597</th>\n      <td>47597</td>\n      <td>7</td>\n      <td>5</td>\n      <td>2023-02-28 23:13:08.508650+00:00</td>\n      <td>2023-02-28 23:13:46.924440+00:00</td>\n      <td>11.509474</td>\n      <td>2121.320344</td>\n      <td>2969.848481</td>\n      <td>2023-02-28</td>\n      <td>23</td>\n      <td>...</td>\n      <td>NaN</td>\n      <td>NaN</td>\n      <td>NaN</td>\n      <td>NaN</td>\n      <td>NaN</td>\n      <td>0</td>\n      <td>0</td>\n      <td>1</td>\n      <td>39</td>\n      <td>0</td>\n    </tr>\n    <tr>\n      <th>47598</th>\n      <td>47598</td>\n      <td>6</td>\n      <td>6</td>\n      <td>2023-02-28 23:13:42.305261+00:00</td>\n      <td>2023-02-28 23:17:32.991126+00:00</td>\n      <td>33.796611</td>\n      <td>0.000000</td>\n      <td>500.000000</td>\n      <td>2023-02-28</td>\n      <td>23</td>\n      <td>...</td>\n      <td>NaN</td>\n      <td>NaN</td>\n      <td>NaN</td>\n      <td>NaN</td>\n      <td>NaN</td>\n      <td>0</td>\n      <td>0</td>\n      <td>2</td>\n      <td>38</td>\n      <td>0</td>\n    </tr>\n  </tbody>\n</table>\n<p>47599 rows × 26 columns</p>\n</div>"
     },
     "execution_count": 7,
     "metadata": {},
     "output_type": "execute_result"
    }
   ],
   "source": [
    "sim_booking_requests"
   ],
   "metadata": {
    "collapsed": false,
    "pycharm": {
     "name": "#%%\n"
    }
   }
  },
  {
   "cell_type": "code",
   "execution_count": 12,
   "outputs": [
    {
     "data": {
      "text/plain": "5    5334\n3    5310\n2    5299\n6    5299\n7    5280\n1    5278\n0    5270\n4    5265\n8    5264\nName: origin_id, dtype: int64"
     },
     "execution_count": 12,
     "metadata": {},
     "output_type": "execute_result"
    }
   ],
   "source": [
    "sim_booking_requests.origin_id.value_counts()"
   ],
   "metadata": {
    "collapsed": false,
    "pycharm": {
     "name": "#%%\n"
    }
   }
  },
  {
   "cell_type": "code",
   "execution_count": 13,
   "outputs": [
    {
     "data": {
      "text/plain": "4    5331\n7    5320\n8    5315\n0    5302\n2    5293\n1    5291\n6    5264\n3    5258\n5    5225\nName: destination_id, dtype: int64"
     },
     "execution_count": 13,
     "metadata": {},
     "output_type": "execute_result"
    }
   ],
   "source": [
    "sim_booking_requests.destination_id.value_counts()"
   ],
   "metadata": {
    "collapsed": false,
    "pycharm": {
     "name": "#%%\n"
    }
   }
  },
  {
   "cell_type": "code",
   "execution_count": 14,
   "outputs": [],
   "source": [
    "zones_history = pd.read_csv(\n",
    "    \"odysseus/simulator/results/my_city_3X3_generated/single_run/od_test_3X3_no_relo/0_0_0/zones_history.csv\"\n",
    ")"
   ],
   "metadata": {
    "collapsed": false,
    "pycharm": {
     "name": "#%%\n"
    }
   }
  },
  {
   "cell_type": "code",
   "execution_count": 17,
   "outputs": [
    {
     "data": {
      "text/plain": "<AxesSubplot: xlabel='zone_id'>"
     },
     "execution_count": 17,
     "metadata": {},
     "output_type": "execute_result"
    },
    {
     "data": {
      "text/plain": "<Figure size 640x480 with 1 Axes>",
      "image/png": "[encoded data removed]"
     },
     "metadata": {},
     "output_type": "display_data"
    }
   ],
   "source": [
    "zones_history.groupby(\"zone_id\").vehicles_parked.mean().plot.bar()"
   ],
   "metadata": {
    "collapsed": false,
    "pycharm": {
     "name": "#%%\n"
    }
   }
  },
  {
   "cell_type": "code",
   "execution_count": null,
   "outputs": [],
   "source": [],
   "metadata": {
    "collapsed": false,
    "pycharm": {
     "name": "#%%\n"
    }
   }
  }
 ],
 "metadata": {
  "kernelspec": {
   "display_name": "Python 3",
   "language": "python",
   "name": "python3"
  },
  "language_info": {
   "codemirror_mode": {
    "name": "ipython",
    "version": 2
   },
   "file_extension": ".py",
   "mimetype": "text/x-python",
   "name": "python",
   "nbconvert_exporter": "python",
   "pygments_lexer": "ipython2",
   "version": "2.7.6"
  }
 },
 "nbformat": 4,
 "nbformat_minor": 0
}